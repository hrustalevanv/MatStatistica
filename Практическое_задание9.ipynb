{
  "nbformat": 4,
  "nbformat_minor": 0,
  "metadata": {
    "colab": {
      "provenance": [],
      "collapsed_sections": []
    },
    "kernelspec": {
      "name": "python3",
      "display_name": "Python 3"
    },
    "language_info": {
      "name": "python"
    }
  },
  "cells": [
    {
      "cell_type": "markdown",
      "source": [
        "# Задача 1.\n",
        "Даны значения величины заработной платы заемщиков банка (zp) и значения их поведенческого кредитного скоринга (ks): zp = [35, 45, 190, 200, 40, 70, 54, 150, 120, 110], ks = [401, 574, 874, 919, 459, 739, 653, 902, 746, 832]. Используя математические операции, посчитать коэффициенты линейной регрессии, приняв за X заработную плату (то есть, zp - признак), а за y - значения скорингового балла (то есть, ks - целевая переменная). Произвести расчет как с использованием intercept, так и без."
      ],
      "metadata": {
        "id": "KpBUD3dJfiKs"
      }
    },
    {
      "cell_type": "code",
      "source": [
        "import scipy.stats as stats\n",
        "import numpy as np\n",
        "import matplotlib.pyplot as plt\n",
        "from sklearn.linear_model import LinearRegression\n"
      ],
      "metadata": {
        "id": "i4R38ql4f4NY"
      },
      "execution_count": 113,
      "outputs": []
    },
    {
      "cell_type": "markdown",
      "source": [
        "**Математический расчет коэффециентов линейнор регрессии.**"
      ],
      "metadata": {
        "id": "Zm_hsEpdwy0T"
      }
    },
    {
      "cell_type": "code",
      "source": [
        "zp = np.array ([35, 45, 190, 200, 40, 70, 54, 150, 120, 110]) \n",
        "ks = np.array ([401, 574, 874, 919, 459, 739, 653, 902, 746, 832])\n"
      ],
      "metadata": {
        "id": "Mo587DrpwyNe"
      },
      "execution_count": 114,
      "outputs": []
    },
    {
      "cell_type": "code",
      "source": [
        "zp = zp.reshape((10,1))\n",
        "zp"
      ],
      "metadata": {
        "colab": {
          "base_uri": "https://localhost:8080/"
        },
        "id": "BT07b5ljxTa4",
        "outputId": "c53d5ad0-39e2-4dac-a964-bd137aae7ca1"
      },
      "execution_count": 115,
      "outputs": [
        {
          "output_type": "execute_result",
          "data": {
            "text/plain": [
              "array([[ 35],\n",
              "       [ 45],\n",
              "       [190],\n",
              "       [200],\n",
              "       [ 40],\n",
              "       [ 70],\n",
              "       [ 54],\n",
              "       [150],\n",
              "       [120],\n",
              "       [110]])"
            ]
          },
          "metadata": {},
          "execution_count": 115
        }
      ]
    },
    {
      "cell_type": "code",
      "source": [
        "ks = zp.reshape((10,1))\n",
        "ks"
      ],
      "metadata": {
        "colab": {
          "base_uri": "https://localhost:8080/"
        },
        "id": "3HKN_UkSxauu",
        "outputId": "010b220d-3011-499e-dced-1e9820e1fc75"
      },
      "execution_count": 116,
      "outputs": [
        {
          "output_type": "execute_result",
          "data": {
            "text/plain": [
              "array([[ 35],\n",
              "       [ 45],\n",
              "       [190],\n",
              "       [200],\n",
              "       [ 40],\n",
              "       [ 70],\n",
              "       [ 54],\n",
              "       [150],\n",
              "       [120],\n",
              "       [110]])"
            ]
          },
          "metadata": {},
          "execution_count": 116
        }
      ]
    },
    {
      "cell_type": "code",
      "source": [
        "B = np.dot(np.linalg.inv(np.dot(zp.T,zp)),zp.T @ ks)\n",
        "B"
      ],
      "metadata": {
        "colab": {
          "base_uri": "https://localhost:8080/"
        },
        "id": "4WtcmaEANUx0",
        "outputId": "1efd8e1e-a8f2-4a16-ce55-c6b5f70f8c90"
      },
      "execution_count": 117,
      "outputs": [
        {
          "output_type": "execute_result",
          "data": {
            "text/plain": [
              "array([[1.]])"
            ]
          },
          "metadata": {},
          "execution_count": 117
        }
      ]
    },
    {
      "cell_type": "code",
      "source": [
        "zp = np.hstack([np.ones((10,1)),zp])\n",
        "zp"
      ],
      "metadata": {
        "colab": {
          "base_uri": "https://localhost:8080/"
        },
        "id": "I6x86ouoG_NR",
        "outputId": "9bf25366-0669-47de-e91b-d4437ff30a5b"
      },
      "execution_count": 109,
      "outputs": [
        {
          "output_type": "execute_result",
          "data": {
            "text/plain": [
              "array([[  1.,  35.],\n",
              "       [  1.,  45.],\n",
              "       [  1., 190.],\n",
              "       [  1., 200.],\n",
              "       [  1.,  40.],\n",
              "       [  1.,  70.],\n",
              "       [  1.,  54.],\n",
              "       [  1., 150.],\n",
              "       [  1., 120.],\n",
              "       [  1., 110.]])"
            ]
          },
          "metadata": {},
          "execution_count": 109
        }
      ]
    },
    {
      "cell_type": "code",
      "source": [
        "B = np.dot(np.linalg.inv(np.dot(zp.T,zp)),zp.T @ ks)\n",
        "B"
      ],
      "metadata": {
        "colab": {
          "base_uri": "https://localhost:8080/"
        },
        "id": "Rec0AbHmJJLi",
        "outputId": "0420d576-a757-4f85-98de-408357fa5873"
      },
      "execution_count": 110,
      "outputs": [
        {
          "output_type": "execute_result",
          "data": {
            "text/plain": [
              "array([444.17735732,   2.62053888])"
            ]
          },
          "metadata": {},
          "execution_count": 110
        }
      ]
    },
    {
      "cell_type": "markdown",
      "source": [
        "**Расчет коэффециента регрессии.**"
      ],
      "metadata": {
        "id": "ukxPPNb4LTKC"
      }
    },
    {
      "cell_type": "code",
      "execution_count": 104,
      "metadata": {
        "colab": {
          "base_uri": "https://localhost:8080/"
        },
        "id": "4mucOt_KfRru",
        "outputId": "b2471492-cc55-44be-a0e0-1171264bad77"
      },
      "outputs": [
        {
          "output_type": "execute_result",
          "data": {
            "text/plain": [
              "array([[1.        , 0.88749009],\n",
              "       [0.88749009, 1.        ]])"
            ]
          },
          "metadata": {},
          "execution_count": 104
        }
      ],
      "source": [
        "zp = np.array ([35, 45, 190, 200, 40, 70, 54, 150, 120, 110]) \n",
        "ks = np.array ([401, 574, 874, 919, 459, 739, 653, 902, 746, 832])\n",
        "np.corrcoef (zp, ks)"
      ]
    },
    {
      "cell_type": "code",
      "source": [
        "zp = zp.reshape(10,1)\n",
        "zp"
      ],
      "metadata": {
        "colab": {
          "base_uri": "https://localhost:8080/"
        },
        "id": "DtQgDSK4gj-p",
        "outputId": "b129d0a6-09ca-4c57-dc66-67268fa690c2"
      },
      "execution_count": 105,
      "outputs": [
        {
          "output_type": "execute_result",
          "data": {
            "text/plain": [
              "array([[ 35],\n",
              "       [ 45],\n",
              "       [190],\n",
              "       [200],\n",
              "       [ 40],\n",
              "       [ 70],\n",
              "       [ 54],\n",
              "       [150],\n",
              "       [120],\n",
              "       [110]])"
            ]
          },
          "metadata": {},
          "execution_count": 105
        }
      ]
    },
    {
      "cell_type": "code",
      "source": [
        "model = LinearRegression()\n",
        "model.fit(zp, ks)\n",
        "r_sq = model.score(zp, ks)\n",
        "print('intercept:', model.intercept_)\n",
        "print('slope:', model.coef_)"
      ],
      "metadata": {
        "colab": {
          "base_uri": "https://localhost:8080/"
        },
        "id": "lJ4K0loqpOts",
        "outputId": "53fabe89-dddf-4b0a-d1e7-3cb75ea97504"
      },
      "execution_count": 106,
      "outputs": [
        {
          "output_type": "stream",
          "name": "stdout",
          "text": [
            "intercept: 444.1773573243595\n",
            "slope: [2.62053888]\n"
          ]
        }
      ]
    },
    {
      "cell_type": "code",
      "source": [
        "model = LinearRegression()\n",
        "model.fit(zp, ks)\n",
        "r_sq = model.score(zp, ks)\n",
        "print('slope:', model.coef_)"
      ],
      "metadata": {
        "colab": {
          "base_uri": "https://localhost:8080/"
        },
        "id": "T-3EptsErrrx",
        "outputId": "d3d026f5-fab3-411b-b527-86ca0a465517"
      },
      "execution_count": 107,
      "outputs": [
        {
          "output_type": "stream",
          "name": "stdout",
          "text": [
            "slope: [2.62053888]\n"
          ]
        }
      ]
    },
    {
      "cell_type": "code",
      "source": [
        "plt.scatter(zp, ks)\n",
        "plt.plot(zp, 3+2.6*zp)\n",
        "plt.show()"
      ],
      "metadata": {
        "colab": {
          "base_uri": "https://localhost:8080/",
          "height": 265
        },
        "id": "8EdKHXRIp9uN",
        "outputId": "da0f8d28-72cf-4765-fb06-ea867581d4a2"
      },
      "execution_count": 108,
      "outputs": [
        {
          "output_type": "display_data",
          "data": {
            "text/plain": [
              "<Figure size 432x288 with 1 Axes>"
            ],
            "image/png": "[encoded data removed]"
          },
          "metadata": {
            "needs_background": "light"
          }
        }
      ]
    },
    {
      "cell_type": "markdown",
      "source": [
        "#Задача 2.\n",
        "Посчитать коэффициент линейной регрессии при заработной плате (zp), используя градиентный спуск (без intercept)."
      ],
      "metadata": {
        "id": "ilg1UActLu-i"
      }
    },
    {
      "cell_type": "code",
      "source": [
        "zp = np.array ([35, 45, 190, 200, 40, 70, 54, 150, 120, 110]) \n",
        "ks = np.array ([401, 574, 874, 919, 459, 739, 653, 902, 746, 832])\n"
      ],
      "metadata": {
        "id": "KJ8QaV4CL4s1"
      },
      "execution_count": 118,
      "outputs": []
    },
    {
      "cell_type": "code",
      "source": [
        "def mse_(B1, ks = ks, zp = zp, n = 10):\n",
        "  return np.sum((B1*zp - ks)**2/n)\n",
        "\n",
        "alpha = 1e-6\n",
        "\n",
        "B1 =0.1 \n",
        "\n",
        "n = 10"
      ],
      "metadata": {
        "id": "FhjX87ANMHkm"
      },
      "execution_count": 122,
      "outputs": []
    },
    {
      "cell_type": "code",
      "source": [
        "for i in range(10):\n",
        "  B1 -= alpha *(2/n) * np.sum ((B1 * zp -ks) * zp)\n",
        "  print ('B1 = {}'.format(B1))"
      ],
      "metadata": {
        "colab": {
          "base_uri": "https://localhost:8080/"
        },
        "id": "INkIqbVPN_GO",
        "outputId": "a5928ca7-91ac-4bd1-b32b-d9b94d2dc117"
      },
      "execution_count": 123,
      "outputs": [
        {
          "output_type": "stream",
          "name": "stdout",
          "text": [
            "B1 = 0.25952808\n",
            "B1 = 0.414660650906144\n",
            "B1 = 0.5655188230595969\n",
            "B1 = 0.7122203698240712\n",
            "B1 = 0.8548798195302346\n",
            "B1 = 0.9936085448867542\n",
            "B1 = 1.1285148499277806\n",
            "B1 = 1.2597040545647504\n",
            "B1 = 1.387278576808517\n",
            "B1 = 1.5113380127259965\n"
          ]
        }
      ]
    },
    {
      "cell_type": "code",
      "source": [
        "for i in range(3000):\n",
        "  B1 -= alpha *(2/n) * np.sum ((B1 * zp -ks) * zp)\n",
        "  if i % 500 ==0:\n",
        "    print ('Iteranion = {i}, B1 = {B1}, mse = {mse}'.format(i = i, B1 = B1, mse = mse_(B1)))"
      ],
      "metadata": {
        "colab": {
          "base_uri": "https://localhost:8080/"
        },
        "id": "qRroQvkQQEjb",
        "outputId": "60d60fda-da14-49af-ab52-75bd1417a140"
      },
      "execution_count": 124,
      "outputs": [
        {
          "output_type": "stream",
          "name": "stdout",
          "text": [
            "Iteranion = 0, B1 = 1.6319792141937546, mse = 306275.75680400355\n",
            "Iteranion = 500, B1 = 5.889816771625289, mse = 56516.858415902796\n",
            "Iteranion = 1000, B1 = 5.8898204201295625, mse = 56516.858415719405\n",
            "Iteranion = 1500, B1 = 5.889820420132673, mse = 56516.85841571942\n",
            "Iteranion = 2000, B1 = 5.889820420132673, mse = 56516.85841571942\n",
            "Iteranion = 2500, B1 = 5.889820420132673, mse = 56516.85841571942\n"
          ]
        }
      ]
    },
    {
      "cell_type": "code",
      "source": [
        "#посчитаем mse через записанную ранее функцию и убедимся, что они одинаковые\n",
        "mse_(5.8898)"
      ],
      "metadata": {
        "colab": {
          "base_uri": "https://localhost:8080/"
        },
        "id": "xluuoH_XQ3qS",
        "outputId": "7b8dcce9-f7bf-42d5-b246-675f716fc054"
      },
      "execution_count": 125,
      "outputs": [
        {
          "output_type": "execute_result",
          "data": {
            "text/plain": [
              "56516.858421464"
            ]
          },
          "metadata": {},
          "execution_count": 125
        }
      ]
    }
  ]
}