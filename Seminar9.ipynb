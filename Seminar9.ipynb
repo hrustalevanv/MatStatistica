{
  "nbformat": 4,
  "nbformat_minor": 0,
  "metadata": {
    "colab": {
      "provenance": [],
      "collapsed_sections": []
    },
    "kernelspec": {
      "name": "python3",
      "display_name": "Python 3"
    },
    "language_info": {
      "name": "python"
    }
  },
  "cells": [
    {
      "cell_type": "markdown",
      "source": [
        "#Задача 1.\n",
        "Постройте графики для приведенных наборов данных. Найдите коэффециенты для линии регрессии и коэффециенты детерминации. Что вы замечаете? Нанесите на график модель линейной регрессии."
      ],
      "metadata": {
        "id": "UATPGKgk5kzy"
      }
    },
    {
      "cell_type": "code",
      "source": [
        "import scipy.stats as stats\n",
        "import numpy as np\n",
        "import matplotlib.pyplot as plt\n",
        " "
      ],
      "metadata": {
        "id": "gcWskYDW6wXF"
      },
      "execution_count": 4,
      "outputs": []
    },
    {
      "cell_type": "code",
      "execution_count": 5,
      "metadata": {
        "colab": {
          "base_uri": "https://localhost:8080/",
          "height": 265
        },
        "id": "oUHJ9nJFw-nJ",
        "outputId": "314779f3-8860-4241-d379-80ba98930aec"
      },
      "outputs": [
        {
          "output_type": "display_data",
          "data": {
            "text/plain": [
              "<Figure size 432x288 with 1 Axes>"
            ],
            "image/png": "[encoded data removed]"
          },
          "metadata": {
            "needs_background": "light"
          }
        }
      ],
      "source": [
        "X1 = np.array([30,30,40,40])\n",
        "Y1 = np.array([37, 47, 50, 60])\n",
        "plt.scatter(X1, Y1)\n",
        "plt.show()"
      ]
    },
    {
      "cell_type": "code",
      "source": [
        "np.corrcoef (X1, Y1)"
      ],
      "metadata": {
        "colab": {
          "base_uri": "https://localhost:8080/"
        },
        "id": "PJGj361s7voQ",
        "outputId": "94df449b-eeb1-4a4b-9a45-d1b09be3a91c"
      },
      "execution_count": 6,
      "outputs": [
        {
          "output_type": "execute_result",
          "data": {
            "text/plain": [
              "array([[1.        , 0.79262399],\n",
              "       [0.79262399, 1.        ]])"
            ]
          },
          "metadata": {},
          "execution_count": 6
        }
      ]
    },
    {
      "cell_type": "markdown",
      "source": [
        "**Найдите коэффециенты для линии регрессии и коэффециенты детерминации**"
      ],
      "metadata": {
        "id": "AU1KV8q08WJ3"
      }
    },
    {
      "cell_type": "code",
      "source": [
        "X1 = X1.reshape(-1,1)\n",
        "X1"
      ],
      "metadata": {
        "colab": {
          "base_uri": "https://localhost:8080/"
        },
        "id": "qJ1LT09R9FMz",
        "outputId": "a89b78c1-3a40-41e0-8d1e-d8e81cc0927c"
      },
      "execution_count": 7,
      "outputs": [
        {
          "output_type": "execute_result",
          "data": {
            "text/plain": [
              "array([[30],\n",
              "       [30],\n",
              "       [40],\n",
              "       [40]])"
            ]
          },
          "metadata": {},
          "execution_count": 7
        }
      ]
    },
    {
      "cell_type": "code",
      "source": [
        "from sklearn.linear_model import LinearRegression\n",
        "import matplotlib.pyplot as plt\n",
        "\n",
        "model = LinearRegression()\n",
        "\n",
        "model = LinearRegression()\n",
        "model.fit(X1, Y1)\n",
        "r_sq = model.score(X1, Y1)\n",
        "print('coefficient of determination:', r_sq)\n",
        "print('intercept:', model.intercept_)\n",
        "print('slope:', model.coef_)"
      ],
      "metadata": {
        "colab": {
          "base_uri": "https://localhost:8080/"
        },
        "id": "keij5krL8Uvq",
        "outputId": "b24a273e-d74a-4d8c-b1ab-8f0d99521177"
      },
      "execution_count": 8,
      "outputs": [
        {
          "output_type": "stream",
          "name": "stdout",
          "text": [
            "coefficient of determination: 0.6282527881040892\n",
            "intercept: 3.0\n",
            "slope: [1.3]\n"
          ]
        }
      ]
    },
    {
      "cell_type": "code",
      "source": [
        "plt.scatter(X1, Y1)\n",
        "plt.plot(X1, 3+1.3*X1)\n",
        "plt.show()"
      ],
      "metadata": {
        "colab": {
          "base_uri": "https://localhost:8080/",
          "height": 265
        },
        "id": "O2ofiita-YtV",
        "outputId": "86de5220-39e7-495e-b4d8-7ac640f3fc5a"
      },
      "execution_count": 9,
      "outputs": [
        {
          "output_type": "display_data",
          "data": {
            "text/plain": [
              "<Figure size 432x288 with 1 Axes>"
            ],
            "image/png": "[encoded data removed]"
          },
          "metadata": {
            "needs_background": "light"
          }
        }
      ]
    },
    {
      "cell_type": "code",
      "source": [
        "x2= np.array([30,30,40, 40, 20, 20, 50, 50])\n",
        "y2= np.array([37, 47, 50, 60, 25, 35, 62, 72])\n",
        "plt.scatter(x2, y2)\n",
        "plt.show()"
      ],
      "metadata": {
        "colab": {
          "base_uri": "https://localhost:8080/",
          "height": 265
        },
        "id": "M12QUBhh6F00",
        "outputId": "898677db-80da-407c-e23b-692348683220"
      },
      "execution_count": 10,
      "outputs": [
        {
          "output_type": "display_data",
          "data": {
            "text/plain": [
              "<Figure size 432x288 with 1 Axes>"
            ],
            "image/png": "[encoded data removed]"
          },
          "metadata": {
            "needs_background": "light"
          }
        }
      ]
    },
    {
      "cell_type": "code",
      "source": [
        "np.corrcoef (x2, y2)"
      ],
      "metadata": {
        "colab": {
          "base_uri": "https://localhost:8080/"
        },
        "id": "IIQsfIgM72C-",
        "outputId": "ad7470fd-418a-4ab4-f2f2-85b11a509144"
      },
      "execution_count": 11,
      "outputs": [
        {
          "output_type": "execute_result",
          "data": {
            "text/plain": [
              "array([[1.        , 0.94058229],\n",
              "       [0.94058229, 1.        ]])"
            ]
          },
          "metadata": {},
          "execution_count": 11
        }
      ]
    },
    {
      "cell_type": "code",
      "source": [
        "x2 = x2.reshape(-1,1)\n",
        "x2"
      ],
      "metadata": {
        "colab": {
          "base_uri": "https://localhost:8080/"
        },
        "id": "a1R4_9cH9i17",
        "outputId": "2b152413-de98-419f-b455-47b85dda57bb"
      },
      "execution_count": 12,
      "outputs": [
        {
          "output_type": "execute_result",
          "data": {
            "text/plain": [
              "array([[30],\n",
              "       [30],\n",
              "       [40],\n",
              "       [40],\n",
              "       [20],\n",
              "       [20],\n",
              "       [50],\n",
              "       [50]])"
            ]
          },
          "metadata": {},
          "execution_count": 12
        }
      ]
    },
    {
      "cell_type": "code",
      "source": [
        "from sklearn.linear_model import LinearRegression\n",
        "import matplotlib.pyplot as plt\n",
        "\n",
        "model = LinearRegression()\n",
        "\n",
        "model = LinearRegression()\n",
        "model.fit(x2, y2)\n",
        "r_sq = model.score(x2, y2)\n",
        "print('coefficient of determination:', r_sq)\n",
        "print('intercept:', model.intercept_)\n",
        "print('slope:', model.coef_)"
      ],
      "metadata": {
        "colab": {
          "base_uri": "https://localhost:8080/"
        },
        "id": "KSRdgAYO9bgm",
        "outputId": "2a2e2993-c79f-4aa8-d387-9b89db2a0352"
      },
      "execution_count": 13,
      "outputs": [
        {
          "output_type": "stream",
          "name": "stdout",
          "text": [
            "coefficient of determination: 0.8846950517836594\n",
            "intercept: 5.1000000000000085\n",
            "slope: [1.24]\n"
          ]
        }
      ]
    },
    {
      "cell_type": "code",
      "source": [
        "plt.scatter(x2, y2)\n",
        "plt.plot(x2, 3+1.24*x2)\n",
        "plt.show()"
      ],
      "metadata": {
        "colab": {
          "base_uri": "https://localhost:8080/",
          "height": 265
        },
        "id": "7rsJ4ah8-sLi",
        "outputId": "310b2f2a-13c1-4f3f-ad44-6a883d450895"
      },
      "execution_count": 14,
      "outputs": [
        {
          "output_type": "display_data",
          "data": {
            "text/plain": [
              "<Figure size 432x288 with 1 Axes>"
            ],
            "image/png": "[encoded data removed]"
          },
          "metadata": {
            "needs_background": "light"
          }
        }
      ]
    },
    {
      "cell_type": "code",
      "source": [
        "X3 = np.array([30,30,40, 40, 20, 20, 50, 50, 10, 10, 60, 60])\n",
        "Y3 = np.array([37, 47, 50, 60, 25, 35, 62, 72, 13, 23, 74, 84])\n",
        "plt.scatter(X3, Y3)\n",
        "plt.show()"
      ],
      "metadata": {
        "colab": {
          "base_uri": "https://localhost:8080/",
          "height": 265
        },
        "id": "4IoTZU696HhD",
        "outputId": "24680fab-c8f8-41cf-949c-b4373d63db47"
      },
      "execution_count": 15,
      "outputs": [
        {
          "output_type": "display_data",
          "data": {
            "text/plain": [
              "<Figure size 432x288 with 1 Axes>"
            ],
            "image/png": "[encoded data removed]"
          },
          "metadata": {
            "needs_background": "light"
          }
        }
      ]
    },
    {
      "cell_type": "code",
      "source": [
        "np.corrcoef (X3, Y3)"
      ],
      "metadata": {
        "colab": {
          "base_uri": "https://localhost:8080/"
        },
        "id": "wa6KYiJx6VUW",
        "outputId": "4ea94cf4-3e0b-4f20-8b09-98749cd28e67"
      },
      "execution_count": 16,
      "outputs": [
        {
          "output_type": "execute_result",
          "data": {
            "text/plain": [
              "array([[1.       , 0.9725791],\n",
              "       [0.9725791, 1.       ]])"
            ]
          },
          "metadata": {},
          "execution_count": 16
        }
      ]
    },
    {
      "cell_type": "code",
      "source": [
        "X3 = X3.reshape(-1,1)\n",
        "X3"
      ],
      "metadata": {
        "colab": {
          "base_uri": "https://localhost:8080/"
        },
        "id": "63MBgVWb90C5",
        "outputId": "f1eda48b-29ab-4f6c-eb3d-3f6c42ea7ec1"
      },
      "execution_count": 17,
      "outputs": [
        {
          "output_type": "execute_result",
          "data": {
            "text/plain": [
              "array([[30],\n",
              "       [30],\n",
              "       [40],\n",
              "       [40],\n",
              "       [20],\n",
              "       [20],\n",
              "       [50],\n",
              "       [50],\n",
              "       [10],\n",
              "       [10],\n",
              "       [60],\n",
              "       [60]])"
            ]
          },
          "metadata": {},
          "execution_count": 17
        }
      ]
    },
    {
      "cell_type": "code",
      "source": [
        "from sklearn.linear_model import LinearRegression\n",
        "import matplotlib.pyplot as plt\n",
        "\n",
        "model = LinearRegression()\n",
        "\n",
        "model = LinearRegression()\n",
        "model.fit(X3, Y3)\n",
        "r_sq = model.score(X3, Y3)\n",
        "print('coefficient of determination:', r_sq)\n",
        "print('intercept:', model.intercept_)\n",
        "print('slope:', model.coef_)"
      ],
      "metadata": {
        "colab": {
          "base_uri": "https://localhost:8080/"
        },
        "id": "hsF4N1Io95cE",
        "outputId": "ff80fdf8-417c-4659-c369-8c41bfc5ebbb"
      },
      "execution_count": 18,
      "outputs": [
        {
          "output_type": "stream",
          "name": "stdout",
          "text": [
            "coefficient of determination: 0.9459101071621309\n",
            "intercept: 5.600000000000016\n",
            "slope: [1.22571429]\n"
          ]
        }
      ]
    },
    {
      "cell_type": "code",
      "source": [
        "plt.scatter(X3, Y3)\n",
        "plt.plot(X3, 3+1.226*X3)\n",
        "plt.show()"
      ],
      "metadata": {
        "colab": {
          "base_uri": "https://localhost:8080/",
          "height": 265
        },
        "id": "rykPWN1I-0vN",
        "outputId": "bd2c53cb-d09a-429a-d251-0fff28a5db0d"
      },
      "execution_count": 19,
      "outputs": [
        {
          "output_type": "display_data",
          "data": {
            "text/plain": [
              "<Figure size 432x288 with 1 Axes>"
            ],
            "image/png": "[encoded data removed]"
          },
          "metadata": {
            "needs_background": "light"
          }
        }
      ]
    },
    {
      "cell_type": "markdown",
      "source": [
        "#Вывод: увеличивается коэффециент корреляции."
      ],
      "metadata": {
        "id": "b2SctLrL8CsJ"
      }
    },
    {
      "cell_type": "markdown",
      "source": [
        "#Задача 2. \n",
        "Постройте модель линейной регрессии для подходящих данных."
      ],
      "metadata": {
        "id": "dHPgGtww_9GH"
      }
    },
    {
      "cell_type": "code",
      "source": [
        "x = np.array([10,8, 13, 9,11,14, 6,4,12, 7,5])\n",
        "y = np.array([8.04, 6.95, 7.58, 8.81, 8.33, 9.96, 7.24, 4.26, 10.84, 4.82, 5.68 ])\n",
        "plt.scatter(x, y)\n",
        "plt.show()\n"
      ],
      "metadata": {
        "id": "h29Zx5O9AH92",
        "colab": {
          "base_uri": "https://localhost:8080/",
          "height": 265
        },
        "outputId": "7f028211-5dfa-4dd7-eed9-54521e5c6273"
      },
      "execution_count": 24,
      "outputs": [
        {
          "output_type": "display_data",
          "data": {
            "text/plain": [
              "<Figure size 432x288 with 1 Axes>"
            ],
            "image/png": "[encoded data removed]"
          },
          "metadata": {
            "needs_background": "light"
          }
        }
      ]
    },
    {
      "cell_type": "code",
      "source": [
        "x = x.reshape(-1,1)\n",
        "x"
      ],
      "metadata": {
        "colab": {
          "base_uri": "https://localhost:8080/"
        },
        "id": "qeKcHzfhaivp",
        "outputId": "c61bd71e-aace-4fc7-e429-619bd93d3147"
      },
      "execution_count": 21,
      "outputs": [
        {
          "output_type": "execute_result",
          "data": {
            "text/plain": [
              "array([[10],\n",
              "       [ 8],\n",
              "       [13],\n",
              "       [ 9],\n",
              "       [11],\n",
              "       [14],\n",
              "       [ 6],\n",
              "       [ 4],\n",
              "       [12],\n",
              "       [ 7],\n",
              "       [ 5]])"
            ]
          },
          "metadata": {},
          "execution_count": 21
        }
      ]
    },
    {
      "cell_type": "code",
      "source": [
        "from sklearn.linear_model import LinearRegression\n",
        "import matplotlib.pyplot as plt\n",
        "\n",
        "model = LinearRegression()\n",
        "\n",
        "model = LinearRegression()\n",
        "model.fit(x, y)\n",
        "r_sq = model.score(x, y)\n",
        "print('coefficient of determination:', r_sq)\n",
        "print('intercept:', model.intercept_)\n",
        "print('slope:', model.coef_)"
      ],
      "metadata": {
        "colab": {
          "base_uri": "https://localhost:8080/"
        },
        "id": "7mAkKu8Katxl",
        "outputId": "b74f8b78-7a9e-4b57-9ab5-f3a9aaae31c1"
      },
      "execution_count": 22,
      "outputs": [
        {
          "output_type": "stream",
          "name": "stdout",
          "text": [
            "coefficient of determination: 0.6665424595087748\n",
            "intercept: 3.0000909090909094\n",
            "slope: [0.50009091]\n"
          ]
        }
      ]
    },
    {
      "cell_type": "code",
      "source": [
        "plt.scatter(x, y)\n",
        "plt.plot(x, 3+0.5*x)\n",
        "plt.show()"
      ],
      "metadata": {
        "colab": {
          "base_uri": "https://localhost:8080/",
          "height": 265
        },
        "id": "GzS9mPjUa2Bm",
        "outputId": "e7c3f1ef-f8ad-4074-b8d8-d9bf48e01bba"
      },
      "execution_count": 25,
      "outputs": [
        {
          "output_type": "display_data",
          "data": {
            "text/plain": [
              "<Figure size 432x288 with 1 Axes>"
            ],
            "image/png": "[encoded data removed]"
          },
          "metadata": {
            "needs_background": "light"
          }
        }
      ]
    },
    {
      "cell_type": "markdown",
      "source": [
        "**Проверим распределение остатков**"
      ],
      "metadata": {
        "id": "1BQxxaNjbKtb"
      }
    },
    {
      "cell_type": "code",
      "source": [
        "y_hat = 3+0.5*x\n",
        "y_hat"
      ],
      "metadata": {
        "colab": {
          "base_uri": "https://localhost:8080/"
        },
        "id": "6oE6WcLbbJ5b",
        "outputId": "906ed1ea-3a6a-454c-8e7f-5aa61605f3ab"
      },
      "execution_count": 26,
      "outputs": [
        {
          "output_type": "execute_result",
          "data": {
            "text/plain": [
              "array([ 8. ,  7. ,  9.5,  7.5,  8.5, 10. ,  6. ,  5. ,  9. ,  6.5,  5.5])"
            ]
          },
          "metadata": {},
          "execution_count": 26
        }
      ]
    },
    {
      "cell_type": "code",
      "source": [
        "y_hat = y_hat.reshape(1,-1)\n",
        "y_hat"
      ],
      "metadata": {
        "colab": {
          "base_uri": "https://localhost:8080/"
        },
        "id": "rRyDwMXZcP4S",
        "outputId": "abd3cf06-c71d-44ed-922e-61af9b63439c"
      },
      "execution_count": 27,
      "outputs": [
        {
          "output_type": "execute_result",
          "data": {
            "text/plain": [
              "array([[ 8. ,  7. ,  9.5,  7.5,  8.5, 10. ,  6. ,  5. ,  9. ,  6.5,  5.5]])"
            ]
          },
          "metadata": {},
          "execution_count": 27
        }
      ]
    },
    {
      "cell_type": "code",
      "source": [
        "Res = y - y_hat# вывод остатков\n",
        "Res"
      ],
      "metadata": {
        "colab": {
          "base_uri": "https://localhost:8080/"
        },
        "id": "tV9Tp-6fcrMC",
        "outputId": "fe3bfa22-7367-4375-88c4-6d2d0ed44282"
      },
      "execution_count": 28,
      "outputs": [
        {
          "output_type": "execute_result",
          "data": {
            "text/plain": [
              "array([[ 0.04, -0.05, -1.92,  1.31, -0.17, -0.04,  1.24, -0.74,  1.84,\n",
              "        -1.68,  0.18]])"
            ]
          },
          "metadata": {},
          "execution_count": 28
        }
      ]
    },
    {
      "cell_type": "code",
      "source": [
        "stats.shapiro(Res)#проверка на нормальность"
      ],
      "metadata": {
        "colab": {
          "base_uri": "https://localhost:8080/"
        },
        "id": "__qcw8mnc4u-",
        "outputId": "aacc2532-0b80-46f6-db39-6e9cc9c14f29"
      },
      "execution_count": 29,
      "outputs": [
        {
          "output_type": "execute_result",
          "data": {
            "text/plain": [
              "ShapiroResult(statistic=0.9420998096466064, pvalue=0.545490026473999)"
            ]
          },
          "metadata": {},
          "execution_count": 29
        }
      ]
    },
    {
      "cell_type": "markdown",
      "source": [
        "#Результат: pvalue >, чем 0.5, различий нет, распределение нормальное."
      ],
      "metadata": {
        "id": "Y77LSboCdJJY"
      }
    },
    {
      "cell_type": "code",
      "source": [
        "plt.scatter(y_hat, Res)# гомоскидастичность\n",
        "plt.show()"
      ],
      "metadata": {
        "colab": {
          "base_uri": "https://localhost:8080/",
          "height": 268
        },
        "id": "VP8Uw61qeCIy",
        "outputId": "4d6ee728-74e0-482e-d2d7-a4f9002cd9ec"
      },
      "execution_count": 30,
      "outputs": [
        {
          "output_type": "display_data",
          "data": {
            "text/plain": [
              "<Figure size 432x288 with 1 Axes>"
            ],
            "image/png": "[encoded data removed]"
          },
          "metadata": {
            "needs_background": "light"
          }
        }
      ]
    },
    {
      "cell_type": "code",
      "source": [
        "plt.scatter(x, Res)#проверка на независимость\n",
        "plt.show()"
      ],
      "metadata": {
        "colab": {
          "base_uri": "https://localhost:8080/",
          "height": 268
        },
        "id": "Dqm8AuQVedWB",
        "outputId": "7380d0fa-7d3c-49a3-c7d0-f276c3c1d604"
      },
      "execution_count": 32,
      "outputs": [
        {
          "output_type": "display_data",
          "data": {
            "text/plain": [
              "<Figure size 432x288 with 1 Axes>"
            ],
            "image/png": "[encoded data removed]"
          },
          "metadata": {
            "needs_background": "light"
          }
        }
      ]
    }
  ]
}