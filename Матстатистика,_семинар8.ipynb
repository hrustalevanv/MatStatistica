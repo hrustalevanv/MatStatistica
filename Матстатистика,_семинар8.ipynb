{
  "nbformat": 4,
  "nbformat_minor": 0,
  "metadata": {
    "colab": {
      "provenance": [],
      "collapsed_sections": []
    },
    "kernelspec": {
      "name": "python3",
      "display_name": "Python 3"
    },
    "language_info": {
      "name": "python"
    }
  },
  "cells": [
    {
      "cell_type": "markdown",
      "source": [
        "#Задача 1. \n",
        "Проведено 4 эксперимента. Для каждого построить график и посчитать коэффециенты корреляции Пирсона. \n"
      ],
      "metadata": {
        "id": "HGTZbk0P9vC8"
      }
    },
    {
      "cell_type": "code",
      "source": [
        "x = np.array([10,8, 13, 9,11,14, 6,4,12, 7,5])\n",
        "y = np.array([8.04, 6.95, 7.58, 8.81, 8.33, 9.96, 7.24, 4.26, 10.84, 4.82, 5.68 ])\n",
        "np.corrcoef (x,y)"
      ],
      "metadata": {
        "colab": {
          "base_uri": "https://localhost:8080/"
        },
        "id": "oFGRMGHn-FU1",
        "outputId": "6f8c9a88-083b-421e-fb07-da3d15a8552b"
      },
      "execution_count": null,
      "outputs": [
        {
          "output_type": "execute_result",
          "data": {
            "text/plain": [
              "array([[1.        , 0.81642052],\n",
              "       [0.81642052, 1.        ]])"
            ]
          },
          "metadata": {},
          "execution_count": 30
        }
      ]
    },
    {
      "cell_type": "code",
      "source": [
        "import scipy.stats as stats\n",
        "import numpy as np\n",
        "import matplotlib.pyplot as plt\n",
        " \n",
        "plt.scatter(x, y)\n",
        "plt.title('r= 0.81642052')\n",
        "plt.xlabel('x')\n",
        "plt.ylabel('y')\n",
        "plt.show()"
      ],
      "metadata": {
        "colab": {
          "base_uri": "https://localhost:8080/",
          "height": 295
        },
        "id": "OsusAc3WSdMD",
        "outputId": "2c862bd2-da81-4be0-b60b-8a3f7d087806"
      },
      "execution_count": null,
      "outputs": [
        {
          "output_type": "display_data",
          "data": {
            "text/plain": [
              "<Figure size 432x288 with 1 Axes>"
            ],
            "image/png": "[encoded data removed]"
          },
          "metadata": {
            "needs_background": "light"
          }
        }
      ]
    },
    {
      "cell_type": "code",
      "source": [
        "x= np.array([ 10,8, 13, 9,11,14, 6,4,12, 7,5 ])\n",
        "y2 = np.array([ 9.14, 8.14, 8.74,8.77, 9.26, 8.10, 6.13, 3.10, 9.13, 7.26, 4.74])\n",
        "np.corrcoef (x,y2)"
      ],
      "metadata": {
        "colab": {
          "base_uri": "https://localhost:8080/"
        },
        "id": "TgpXME_v-Fak",
        "outputId": "b3b1f103-cfc0-4a1b-d48a-c3bab806ba41"
      },
      "execution_count": null,
      "outputs": [
        {
          "output_type": "execute_result",
          "data": {
            "text/plain": [
              "array([[1.        , 0.81623651],\n",
              "       [0.81623651, 1.        ]])"
            ]
          },
          "metadata": {},
          "execution_count": 12
        }
      ]
    },
    {
      "cell_type": "code",
      "source": [
        "plt.scatter(x, y2)\n",
        "plt.title('r= 0.81623651')\n",
        "plt.xlabel('x')\n",
        "plt.ylabel('y2')\n",
        "plt.show()"
      ],
      "metadata": {
        "colab": {
          "base_uri": "https://localhost:8080/",
          "height": 295
        },
        "id": "GcnMu_lXTeNB",
        "outputId": "7b41d3b9-4226-4687-824b-85cf4cc1de9d"
      },
      "execution_count": null,
      "outputs": [
        {
          "output_type": "display_data",
          "data": {
            "text/plain": [
              "<Figure size 432x288 with 1 Axes>"
            ],
            "image/png": "[encoded data removed]"
          },
          "metadata": {
            "needs_background": "light"
          }
        }
      ]
    },
    {
      "cell_type": "code",
      "source": [
        "x= np.array([ 10,8, 13, 9,11,14, 6,4,12, 7,5 ])\n",
        "y3 = np.array([7.46,6.77, 12.74, 7.11, 7.81, 8.84, 6.08, 5.39, 8.15, 6.42, 5.73])\n",
        "np.corrcoef (x,y3)"
      ],
      "metadata": {
        "colab": {
          "base_uri": "https://localhost:8080/"
        },
        "id": "SS1mlvhV-zU-",
        "outputId": "8211050e-289f-4974-de17-325def7cf3ef"
      },
      "execution_count": null,
      "outputs": [
        {
          "output_type": "execute_result",
          "data": {
            "text/plain": [
              "array([[1.        , 0.81642052],\n",
              "       [0.81642052, 1.        ]])"
            ]
          },
          "metadata": {},
          "execution_count": 9
        }
      ]
    },
    {
      "cell_type": "code",
      "source": [
        "plt.scatter(x, y3)\n",
        "plt.title('r= 0.81642052')\n",
        "plt.xlabel('x')\n",
        "plt.ylabel('y3')\n",
        "plt.show()"
      ],
      "metadata": {
        "colab": {
          "base_uri": "https://localhost:8080/",
          "height": 295
        },
        "id": "IzDeDoolTstB",
        "outputId": "734a46ee-cc13-4714-a4ba-92809f69753f"
      },
      "execution_count": null,
      "outputs": [
        {
          "output_type": "display_data",
          "data": {
            "text/plain": [
              "<Figure size 432x288 with 1 Axes>"
            ],
            "image/png": "[encoded data removed]"
          },
          "metadata": {
            "needs_background": "light"
          }
        }
      ]
    },
    {
      "cell_type": "code",
      "source": [
        "x4 = np.array([8, 8, 8, 8, 8, 8, 8, 19, 8, 8, 8])\n",
        "y4 = np.array([6.58, 5.76, 7.71, 8.84, 8.47, 7.04, 5.25,12.5, 5.56, 7.91, 6.89])\n",
        "np.corrcoef (x4,y4)"
      ],
      "metadata": {
        "colab": {
          "base_uri": "https://localhost:8080/"
        },
        "id": "-SMzwaEm-zeh",
        "outputId": "c2733b66-2a8c-4daf-ca23-35068bf39aa3"
      },
      "execution_count": null,
      "outputs": [
        {
          "output_type": "execute_result",
          "data": {
            "text/plain": [
              "array([[ 1.        , -0.31404671],\n",
              "       [-0.31404671,  1.        ]])"
            ]
          },
          "metadata": {},
          "execution_count": 15
        }
      ]
    },
    {
      "cell_type": "code",
      "source": [
        "plt.scatter(x4, y4)\n",
        "plt.title('r= -0.31404671')\n",
        "plt.xlabel('x4')\n",
        "plt.ylabel('y4')\n",
        "plt.show()"
      ],
      "metadata": {
        "colab": {
          "base_uri": "https://localhost:8080/",
          "height": 295
        },
        "id": "F103zlM2UE_G",
        "outputId": "b9dba2bc-97ad-4512-b64f-523b23ea7b97"
      },
      "execution_count": null,
      "outputs": [
        {
          "output_type": "display_data",
          "data": {
            "text/plain": [
              "<Figure size 432x288 with 1 Axes>"
            ],
            "image/png": "[encoded data removed]"
          },
          "metadata": {
            "needs_background": "light"
          }
        }
      ]
    },
    {
      "cell_type": "code",
      "source": [
        "x0= np.array([ 10, 8, 13, 9, 11, 14, 6, 4, 12, 7,5,  15, 16, 18 ])\n",
        "y0 = np.array([ 9.14, 8.14, 8.74,8.77, 9.26, 8.10, 6.13, 3.10, 9.13, 7.26, 4.74, 6.5, 5, 2.9])\n",
        "np.corrcoef (x0,y0)"
      ],
      "metadata": {
        "colab": {
          "base_uri": "https://localhost:8080/"
        },
        "id": "Wx8Sy5Zn-zne",
        "outputId": "bfd82d4c-36e5-4b25-c628-22a523e9ce95"
      },
      "execution_count": null,
      "outputs": [
        {
          "output_type": "execute_result",
          "data": {
            "text/plain": [
              "array([[1.        , 0.02245218],\n",
              "       [0.02245218, 1.        ]])"
            ]
          },
          "metadata": {},
          "execution_count": 19
        }
      ]
    },
    {
      "cell_type": "code",
      "source": [
        "plt.scatter(x0, y0)\n",
        "plt.title('r= 0.02245218')\n",
        "plt.xlabel('x0')\n",
        "plt.ylabel('y0')\n",
        "plt.show()"
      ],
      "metadata": {
        "colab": {
          "base_uri": "https://localhost:8080/",
          "height": 295
        },
        "id": "sNa3E_mSUaz1",
        "outputId": "dc534f41-c252-409c-ba26-5b9925f02b5c"
      },
      "execution_count": null,
      "outputs": [
        {
          "output_type": "display_data",
          "data": {
            "text/plain": [
              "<Figure size 432x288 with 1 Axes>"
            ],
            "image/png": "[encoded data removed]"
          },
          "metadata": {
            "needs_background": "light"
          }
        }
      ]
    },
    {
      "cell_type": "markdown",
      "source": [
        "#Вывод по последнему графику:\n",
        "Eсть зависимость, не линейная, коэффециент корреляции почти близок к нулю, слабая корреляция."
      ],
      "metadata": {
        "id": "StmzUTj0UkEr"
      }
    },
    {
      "cell_type": "markdown",
      "source": [
        "#Задача 2. \n",
        "Провести двухсторонний тест и ответить на вопрос, есть ли статистически значимые разницы между средними 2х нормально распределенных генеральных совокупностей, представленных следующими независимыми выборками: a = np.array([12, 10, 11, 19, 13, 11, 17, 15, 19, 14, 21, 18, 21, 11, 17, 14, 15, 17, 20, 19])\n",
        "\n",
        "b = np.array([11, 13, 18, 15, 17, 18, 10, 21, 26, 15, 11, 12, 15, 17, 10, 18, 18, 12,21, 20])\n",
        "\n",
        "Уровень стат значимости принять за 5%:\n",
        "1. Используйте функцию в Python\n",
        "2. Имея p-value из функции рассчитать наблюдаемое значение критерия."
      ],
      "metadata": {
        "id": "ElSGIlOsXTGH"
      }
    },
    {
      "cell_type": "markdown",
      "source": [
        "#1. Используйте функцию в Python"
      ],
      "metadata": {
        "id": "i_kQDBZLeyUL"
      }
    },
    {
      "cell_type": "code",
      "source": [
        "a = np.array([12, 10, 11, 19, 13, 11, 17, 15, 19, 14, 21, 18, 21, 11, 17, 14, 15, 17, 20, 19])\n",
        "b = np.array([11, 13, 18, 15, 17, 18, 10, 21, 26, 15, 11, 12, 15, 17, 10, 18, 18, 12,21, 20])"
      ],
      "metadata": {
        "id": "_w3ugAp8USW2"
      },
      "execution_count": null,
      "outputs": []
    },
    {
      "cell_type": "code",
      "source": [
        "from scipy.stats.stats import ttest_ind\n",
        "stats.ttest_ind(a,b)"
      ],
      "metadata": {
        "colab": {
          "base_uri": "https://localhost:8080/"
        },
        "id": "ozbmucJHYeMA",
        "outputId": "fd57dfa6-43a3-4c08-8d52-5fd47156c1f9"
      },
      "execution_count": null,
      "outputs": [
        {
          "output_type": "execute_result",
          "data": {
            "text/plain": [
              "Ttest_indResult(statistic=-0.1599663264228627, pvalue=0.8737549039369696)"
            ]
          },
          "metadata": {},
          "execution_count": 22
        }
      ]
    },
    {
      "cell_type": "markdown",
      "source": [
        "#2. Имея p-value из функции рассчитать наблюдаемое значение критерия."
      ],
      "metadata": {
        "id": "PJPKy_Znel8Q"
      }
    },
    {
      "cell_type": "code",
      "source": [
        "#Степень свободы: 2*(n-1) = 2*(20-1)=38, где n-наша выборка np.array, вложили площадь и получили statistic\n",
        "stats.t.ppf(0.8737549039369696/2, 38)"
      ],
      "metadata": {
        "colab": {
          "base_uri": "https://localhost:8080/"
        },
        "id": "qWgHEM_HYeSp",
        "outputId": "9dbe8051-6d00-4897-d5a5-84b353360b8c"
      },
      "execution_count": null,
      "outputs": [
        {
          "output_type": "execute_result",
          "data": {
            "text/plain": [
              "-0.15996632632476554"
            ]
          },
          "metadata": {},
          "execution_count": 23
        }
      ]
    },
    {
      "cell_type": "code",
      "source": [
        "stats.t.ppf(1-0.8737549039369696/2, 38)"
      ],
      "metadata": {
        "colab": {
          "base_uri": "https://localhost:8080/"
        },
        "id": "xXiqzMOFiRI8",
        "outputId": "db566d67-3442-48ba-972d-7cd1718ca2de"
      },
      "execution_count": null,
      "outputs": [
        {
          "output_type": "execute_result",
          "data": {
            "text/plain": [
              "0.15996632632476554"
            ]
          },
          "metadata": {},
          "execution_count": 25
        }
      ]
    },
    {
      "cell_type": "code",
      "source": [
        "stats.t.cdf(-0.1599663264228627, 38)# вложили statistic и получили площадь"
      ],
      "metadata": {
        "colab": {
          "base_uri": "https://localhost:8080/"
        },
        "id": "E8xRIZZ9Mv0j",
        "outputId": "4b4c4620-3f6d-4e56-e779-9c380a372307"
      },
      "execution_count": null,
      "outputs": [
        {
          "output_type": "execute_result",
          "data": {
            "text/plain": [
              "0.4368774519684848"
            ]
          },
          "metadata": {},
          "execution_count": 26
        }
      ]
    },
    {
      "cell_type": "markdown",
      "source": [
        "#Используя эту функцию провести stats.ttest_ind(a, b,alternative='greater', equal_var = True), альтернативная гипотеза greater"
      ],
      "metadata": {
        "id": "AM14bG0hN2n4"
      }
    },
    {
      "cell_type": "code",
      "source": [
        "stats.ttest_ind(a, b,alternative='greater', equal_var = True)# выявить, что a>b, односторонний тест"
      ],
      "metadata": {
        "colab": {
          "base_uri": "https://localhost:8080/"
        },
        "id": "0hM6Kti7iRUB",
        "outputId": "c90b073f-56a6-4f5b-fc1d-dbc3870519cc"
      },
      "execution_count": null,
      "outputs": [
        {
          "output_type": "execute_result",
          "data": {
            "text/plain": [
              "Ttest_indResult(statistic=-0.1599663264228627, pvalue=0.5631225480315152)"
            ]
          },
          "metadata": {},
          "execution_count": 27
        }
      ]
    },
    {
      "cell_type": "code",
      "source": [
        "stats.ttest_ind(a, b,alternative='less', equal_var = True)"
      ],
      "metadata": {
        "colab": {
          "base_uri": "https://localhost:8080/"
        },
        "id": "wgiWcCi-Okbk",
        "outputId": "5055c848-4199-4687-c057-9784b2c41039"
      },
      "execution_count": null,
      "outputs": [
        {
          "output_type": "execute_result",
          "data": {
            "text/plain": [
              "Ttest_indResult(statistic=-0.1599663264228627, pvalue=0.4368774519684848)"
            ]
          },
          "metadata": {},
          "execution_count": 28
        }
      ]
    },
    {
      "cell_type": "markdown",
      "source": [
        "#Задача 3.\n",
        "Спортсмен стреляет по мишени, разделенной на три сектора. Вероятность попадания в 1-й сектор = 0.4, во второй = 0.3. Какова вероятность попадания в 1-й или 2-й сектор?\n",
        "**Решение:**\n",
        "0.4+0.3=0.7"
      ],
      "metadata": {
        "id": "wyJasjQxSoXV"
      }
    },
    {
      "cell_type": "markdown",
      "source": [
        "#Задача 4. \n",
        "В группе 21 студент: 5 отличников, 10 хорошистов, 6 слабых. На предстоящем экзамене отлично могут получить только отличники, хорошисты с равной вероятностью могут получить хорошо или отлично, слабые - с одинаковой вероятностью могут получить хорошо, удровлетворительно и неуд. На экзамен вызывается наугад 1 студент. Какова вероятность, что он получит хорошо или отлично?\n",
        "**Решение:**\n",
        "5/21 * 1 +10/21 * 1 + 6/21 * 1/3 = 81\n",
        "Полная вероятность события А"
      ],
      "metadata": {
        "id": "7Fg-Uwu9TiW3"
      }
    },
    {
      "cell_type": "markdown",
      "source": [
        "#Задача 5.\n",
        "Некоторое изделие выпускается 2-мя заводами. При этом объем продукции 2-го завода в 3 раза превосходит объем продукции 1-го. Доля брака у 1-го -2%, у 2-го-1%. Изделие выпущенное заводами за одинаковый промежуток времени. Изделия перемешали и отправили в продажу. Какова вероятность, что приобретенное изделие со 2-го завода, если оно бракованное?\n",
        "**Решение:**\n",
        "Формула Байса. Р(В|А) = P(A|B)*P(B)/P(A)\n",
        "A - брак\n",
        "В - 2-й завод\n",
        "Р(В|А) = 0.01* 0.75/0.0125 = 0.6\n",
        "0.25 * 0.02 + 0.25 * 0.01 = 0.0125\n"
      ],
      "metadata": {
        "id": "CSRHHiYeVmM9"
      }
    },
    {
      "cell_type": "code",
      "source": [],
      "metadata": {
        "id": "9KQzvVAgTGWn"
      },
      "execution_count": null,
      "outputs": []
    }
  ]
}