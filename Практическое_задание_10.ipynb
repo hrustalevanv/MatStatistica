{
  "nbformat": 4,
  "nbformat_minor": 0,
  "metadata": {
    "colab": {
      "provenance": [],
      "collapsed_sections": []
    },
    "kernelspec": {
      "name": "python3",
      "display_name": "Python 3"
    },
    "language_info": {
      "name": "python"
    }
  },
  "cells": [
    {
      "cell_type": "markdown",
      "source": [
        "#Задача.\n",
        "Провести дисперсионный анализ для определения того, есть ли различия среднего роста среди взрослых футболистов, хоккеистов и штангистов. Даны значения роста в трех группах случайно выбранных спортсменов:\n",
        "\n",
        "Футболисты: 173, 175, 180, 178, 177, 185, 183, 182. \n",
        "\n",
        "Хоккеисты: 177, 179, 180, 188, 177, 172, 171, 184, 180.\n",
        "\n",
        "Штангисты: 172, 173, 169, 177, 166, 180, 178, 177, 172, 166, 170."
      ],
      "metadata": {
        "id": "IMQC7-jKMDAz"
      }
    },
    {
      "cell_type": "code",
      "source": [
        "import numpy as np\n",
        "from scipy import stats\n",
        "import matplotlib.pyplot as plt\n"
      ],
      "metadata": {
        "id": "eaPIxHpHZUCQ"
      },
      "execution_count": 10,
      "outputs": []
    },
    {
      "cell_type": "code",
      "execution_count": 11,
      "metadata": {
        "id": "7KZrkP2eLxde"
      },
      "outputs": [],
      "source": [
        "y1 = np.array([173, 175, 180, 178, 177, 185, 183, 182])\n",
        "y2 = np.array([177, 179, 180, 188, 177, 172, 171, 184])\n",
        "y3 = np.array([172, 173, 169, 177, 166, 180, 178, 177])"
      ]
    },
    {
      "cell_type": "code",
      "source": [
        "f = stats.f_oneway(y1, y2, y3)\n",
        "f"
      ],
      "metadata": {
        "colab": {
          "base_uri": "https://localhost:8080/"
        },
        "id": "JNhX1USDZmUX",
        "outputId": "e33f1045-b729-407a-a169-04e406aff5dc"
      },
      "execution_count": 12,
      "outputs": [
        {
          "output_type": "execute_result",
          "data": {
            "text/plain": [
              "F_onewayResult(statistic=5.500053450812596, pvalue=0.010482206918698694)"
            ]
          },
          "metadata": {},
          "execution_count": 12
        }
      ]
    },
    {
      "cell_type": "markdown",
      "source": [
        "Интерпритировать альфа 1% и 5%"
      ],
      "metadata": {
        "id": "BlK_-bxFZ9_d"
      }
    },
    {
      "cell_type": "code",
      "source": [
        "from statsmodels.stats.multicomp import pairwise_tukeyhsd\n",
        "import pandas as pd \n"
      ],
      "metadata": {
        "id": "H23dfnJPaC5D"
      },
      "execution_count": 13,
      "outputs": []
    },
    {
      "cell_type": "code",
      "source": [
        "df=pd.DataFrame({\"score\":[173, 175, 180, 178, 177, 185, 183, 182,177, 179, 180, 188, 177, 172, 171, 184, 172, 173, 169, 177, 166, 180, 178, 177],\n",
        "                 \"group\":np.repeat(['y1','y2','y3'], repeats =8)})\n",
        "tukey=pairwise_tukeyhsd(df[\"score\"],\n",
        "                        df[\"group\"],\n",
        "                        alpha =0.01)\n",
        "print(tukey)"
      ],
      "metadata": {
        "colab": {
          "base_uri": "https://localhost:8080/"
        },
        "id": "W1lfRrITHG5y",
        "outputId": "4bfe6f7b-c782-49a6-f5c8-0e171ea86a4e"
      },
      "execution_count": 23,
      "outputs": [
        {
          "output_type": "stream",
          "name": "stdout",
          "text": [
            "Multiple Comparison of Means - Tukey HSD, FWER=0.01 \n",
            "====================================================\n",
            "group1 group2 meandiff p-adj   lower   upper  reject\n",
            "----------------------------------------------------\n",
            "    y1     y2   -0.625    0.9  -8.6499 7.3999  False\n",
            "    y1     y3   -5.125 0.1178 -13.1499 2.8999  False\n",
            "    y2     y3     -4.5 0.1848 -12.5249 3.5249  False\n",
            "----------------------------------------------------\n"
          ]
        }
      ]
    },
    {
      "cell_type": "code",
      "source": [
        "df=pd.DataFrame({\"score\":[173, 175, 180, 178, 177, 185, 183, 182,177, 179, 180, 188, 177, 172, 171, 184, 172, 173, 169, 177, 166, 180, 178, 177],\n",
        "                 \"group\":np.repeat(['y1','y2','y3'], repeats =8)})\n",
        "tukey=pairwise_tukeyhsd(df[\"score\"],\n",
        "                        df[\"group\"],\n",
        "                        alpha =0.05)\n",
        "print(tukey)"
      ],
      "metadata": {
        "colab": {
          "base_uri": "https://localhost:8080/"
        },
        "id": "E2FBq4S_Pszi",
        "outputId": "b25bad63-e9d0-46a0-e8ac-911fc4b0dd33"
      },
      "execution_count": 24,
      "outputs": [
        {
          "output_type": "stream",
          "name": "stdout",
          "text": [
            "Multiple Comparison of Means - Tukey HSD, FWER=0.05 \n",
            "====================================================\n",
            "group1 group2 meandiff p-adj   lower   upper  reject\n",
            "----------------------------------------------------\n",
            "    y1     y2   -0.625    0.9  -6.8272 5.5772  False\n",
            "    y1     y3   -5.125 0.1178 -11.3272 1.0772  False\n",
            "    y2     y3     -4.5 0.1848 -10.7022 1.7022  False\n",
            "----------------------------------------------------\n"
          ]
        }
      ]
    }
  ]
}