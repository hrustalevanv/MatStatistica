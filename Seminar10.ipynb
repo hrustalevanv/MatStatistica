{
  "nbformat": 4,
  "nbformat_minor": 0,
  "metadata": {
    "colab": {
      "provenance": [],
      "collapsed_sections": []
    },
    "kernelspec": {
      "name": "python3",
      "display_name": "Python 3"
    },
    "language_info": {
      "name": "python"
    }
  },
  "cells": [
    {
      "cell_type": "markdown",
      "source": [
        "#Задача 1.\n",
        "Есть ли различие между процентным содержанием изотопов плутония? Используйте функции в Python\n",
        "Провести предварительный разведочный анализ (проверку на нормальность и равенство дисперсий)"
      ],
      "metadata": {
        "id": "e--fsoIGdPLn"
      }
    },
    {
      "cell_type": "code",
      "source": [
        "import numpy as np\n",
        "from scipy import stats\n",
        "import matplotlib.pyplot as plt"
      ],
      "metadata": {
        "id": "vDdSGvUyeI9o"
      },
      "execution_count": 2,
      "outputs": []
    },
    {
      "cell_type": "code",
      "source": [
        "pu_238 = np.array([0.126, 0.133, 0.127, 0.156, 0.503, 0.113, 0.129, 0.124, 1.022, 1.412, 1.533, 1.534, 1.437, 1.439, 1.375, 1.153, 0.201, 0.176, 0.239, 0.102, 1.070, 0.851,\n",
        "                   0.125, 0.142, 0.352, 0.351, 0.346, 0.217, 1.068, 1.171, 1.213, 1.226, 1.111, 0.183, 0.162, 0.113, 1.309, 1.638, 1.589, 1.411, 1.457, 0.397, 0.328, 0.242, 1.367])\n",
        "stats.shapiro(pu_238)"
      ],
      "metadata": {
        "colab": {
          "base_uri": "https://localhost:8080/"
        },
        "id": "4r156o5odzOM",
        "outputId": "4432fdd5-881d-4b06-ae59-84c216ec0f55"
      },
      "execution_count": 3,
      "outputs": [
        {
          "output_type": "execute_result",
          "data": {
            "text/plain": [
              "ShapiroResult(statistic=0.8199635744094849, pvalue=6.733238933520624e-06)"
            ]
          },
          "metadata": {},
          "execution_count": 3
        }
      ]
    },
    {
      "cell_type": "code",
      "source": [
        "pu_239 = np.array([75.804, 75.515, 75.175, 78.872, 73.317, 79.116, 75.751, 75.326, 63.287, 59.553, 58.688, 58.758, 59.728, 59.544, 59.877, 61.182, 78.244, 78.166, 74.254, \n",
        "                   79.840, 62.455, 73.189, 75.968, 75.957, 72.885,72.907, 72.919, 76.089, 70.129, 69.273, 69.147, 68.294, 71.076, 75.714, 76.150, 77.845, 62.382, 60.112,\n",
        "                   60.519, 61.585, 61.332, 72.291, 73.451, 74.888, 60.507])\n",
        "stats.shapiro(pu_239)"
      ],
      "metadata": {
        "colab": {
          "base_uri": "https://localhost:8080/"
        },
        "id": "ZWoFEpf3eX-A",
        "outputId": "b5f62d9e-18e6-4a4c-bd26-6fa62920e88b"
      },
      "execution_count": 4,
      "outputs": [
        {
          "output_type": "execute_result",
          "data": {
            "text/plain": [
              "ShapiroResult(statistic=0.8647032976150513, pvalue=8.951327617978677e-05)"
            ]
          },
          "metadata": {},
          "execution_count": 4
        }
      ]
    },
    {
      "cell_type": "code",
      "source": [
        "pu_240 = np.array([21.204, 21.408, 21.668, 18.428, 20.223, 18.548, 21.162, 21.557, 24.493, 25.576, 25.719, 25.692, 25.146, 25.126, 25.128, 25.100, 18.488, 18.629, 21.515, \n",
        "                   17.872, 24.656, 18.285, 20.794, 20.867, 21.718, 21.721, 21.713, 20.225, 18.573, 18.633, 18.640, 18.869, 18.122, 20.750, 20.345, 19.108, 22.754, 23.320, \n",
        "                   23.128, 23.133, 23.239, 21.761, 21.429, 20.939, 23.603])\n",
        "stats.shapiro(pu_240)"
      ],
      "metadata": {
        "colab": {
          "base_uri": "https://localhost:8080/"
        },
        "id": "ELFUsS8VeoQ-",
        "outputId": "d29c7695-3355-47dc-8cbe-b68dca664750"
      },
      "execution_count": 5,
      "outputs": [
        {
          "output_type": "execute_result",
          "data": {
            "text/plain": [
              "ShapiroResult(statistic=0.9316778182983398, pvalue=0.010755515657365322)"
            ]
          },
          "metadata": {},
          "execution_count": 5
        }
      ]
    },
    {
      "cell_type": "code",
      "source": [
        "pu_241 = np.array([ 2.180, 2.240, 2.305, 1.906, 4.128, 1.690, 2.260, 2.282, 6.990, 8.027, 8.279, 8.261, 8.377, 8.569, 8.428, 7.802, 2.351, 2.365, 2.901, 1.674, 7.512, 5.597,\n",
        "                   2.407, 2.341, 3.618, 3.601, 3.600, 2.556, 7.689, 8.300, 8.363, 8.826, 7.248, 2.488, 2.524, 2.275, 9.311, 9.972, 9.970, 9.339, 9.321, 3.836, 3.419, 2.875, 9.839])\n",
        "stats.shapiro(pu_241)"
      ],
      "metadata": {
        "colab": {
          "base_uri": "https://localhost:8080/"
        },
        "id": "T_Fw4lXpeoyT",
        "outputId": "0c205af8-ccd7-4ab2-df59-46a7db1be724"
      },
      "execution_count": 6,
      "outputs": [
        {
          "output_type": "execute_result",
          "data": {
            "text/plain": [
              "ShapiroResult(statistic=0.8336212635040283, pvalue=1.4246789760363754e-05)"
            ]
          },
          "metadata": {},
          "execution_count": 6
        }
      ]
    },
    {
      "cell_type": "markdown",
      "source": [
        "Вывод по тесту Шапиро: pvalue=6.73, не может быть боле 1, данные не нормальные, pvalue=8.95, pvalue=0.01, pvalue=1.42. Если не нормальное рапределение, мы не можем использовать критерий Фридмана."
      ],
      "metadata": {
        "id": "LimfXwbBf82G"
      }
    },
    {
      "cell_type": "code",
      "execution_count": 7,
      "metadata": {
        "colab": {
          "base_uri": "https://localhost:8080/"
        },
        "id": "fW6voMDAD-yf",
        "outputId": "c992daf4-bdb0-4658-d77d-3266ca7aade7"
      },
      "outputs": [
        {
          "output_type": "execute_result",
          "data": {
            "text/plain": [
              "BartlettResult(statistic=193.1803716617602, pvalue=1.2547805439253745e-41)"
            ]
          },
          "metadata": {},
          "execution_count": 7
        }
      ],
      "source": [
        "stats.bartlett(pu_238, pu_239, pu_240, pu_241)#тест на равенство дисперсий, если б соблюдалось нормальное распределение, а так лучше использовать тест Кохрона и Ливене."
      ]
    },
    {
      "cell_type": "markdown",
      "source": [
        "**Вывод:** pvalue=1.25 очень низкий, мы не можем использовать критерий Фишера. Значит берем функцию Крускала"
      ],
      "metadata": {
        "id": "Qm3LSsodhRPx"
      }
    },
    {
      "cell_type": "code",
      "source": [
        "stats.kruskal(pu_238, pu_239, pu_240, pu_241)"
      ],
      "metadata": {
        "colab": {
          "base_uri": "https://localhost:8080/"
        },
        "id": "B3IaQ27ohmk7",
        "outputId": "fe3cfadd-b1d4-42ca-a664-60e8a4944279"
      },
      "execution_count": 8,
      "outputs": [
        {
          "output_type": "execute_result",
          "data": {
            "text/plain": [
              "KruskalResult(statistic=167.8178522154513, pvalue=3.76478949748032e-36)"
            ]
          },
          "metadata": {},
          "execution_count": 8
        }
      ]
    },
    {
      "cell_type": "markdown",
      "source": [
        "**Вывод:** различие между группами есть, тест выбран правильно."
      ],
      "metadata": {
        "id": "3g6ZtUJziMiJ"
      }
    },
    {
      "cell_type": "markdown",
      "source": [
        "#Задача 2.\n",
        "Даны квартальные прибыли акции Johnson&Johnson с 1960-1980 гг\n",
        "Есть ли различия прибыли между 4-мя кварталами?\n",
        "Провести EDA (проверка на нормальность, проверка на однородность дисперсий с помощью Барлетт теста\n",
        "from scipy.stats import bartlett)\n",
        "Учитывайте при выборе теста тот факт, что при сбалансированных данных (выборки одинакового объема), неоднородность дисперсий слабо влияет на результат)"
      ],
      "metadata": {
        "id": "nvPCYXBtiXlq"
      }
    },
    {
      "cell_type": "code",
      "source": [
        "JJ_1=np.array([0.71, 0.63, 0.85, 0.44, 0.61, 0.69, 0.92, 0.55, 0.72, 0.77, 0.92, 0.60, 0.83, 0.80, 1.00, 0.77, 0.92, 1.00, 1.24, 1.00, 1.16 ])\n",
        "JJ_2=np.array([1.30, 1.45, 1.25, 1.26, 1.38, 1.86, 1.56, 1.53, 1.59, 1.83, 1.86, 1.53, 2.07, 2.34, 2.25, 2.16, 2.43, 2.70, 2.25, 2.79, 3.42 ])\n",
        "JJ_3=np.array([3.69, 3.60, 3.60, 4.32, 4.32, 4.05, 4.86, 5.04, 5.04, 4.41, 5.58, 5.85, 6.57, 5.31, 6.03, 6.39, 6.93, 5.85, 6.93, 7.74,  7.83])\n",
        "JJ_4=np.array([6.12,  7.74,  8.91,  8.28, 6.84,  9.54, 10.26,  9.54, 8.73, 11.88, 12.06, 12.15, 8.91, 14.04, 12.96, 14.85, 9.99, 16.20, 14.67, 16.02, 11.61 ])"
      ],
      "metadata": {
        "id": "KPCN6feliqU3"
      },
      "execution_count": 9,
      "outputs": []
    },
    {
      "cell_type": "code",
      "source": [
        "stats.shapiro(JJ_1)"
      ],
      "metadata": {
        "colab": {
          "base_uri": "https://localhost:8080/"
        },
        "id": "ClSWkFTfjMbF",
        "outputId": "d39eab37-4dc6-4e57-dd5e-bf93ceeffa6a"
      },
      "execution_count": 10,
      "outputs": [
        {
          "output_type": "execute_result",
          "data": {
            "text/plain": [
              "ShapiroResult(statistic=0.9837696552276611, pvalue=0.9688368439674377)"
            ]
          },
          "metadata": {},
          "execution_count": 10
        }
      ]
    },
    {
      "cell_type": "code",
      "source": [
        "stats.shapiro(JJ_2)"
      ],
      "metadata": {
        "colab": {
          "base_uri": "https://localhost:8080/"
        },
        "id": "CcZQngNNjSTN",
        "outputId": "4fc2fed4-4638-4659-d737-451f3f0a5b77"
      },
      "execution_count": 11,
      "outputs": [
        {
          "output_type": "execute_result",
          "data": {
            "text/plain": [
              "ShapiroResult(statistic=0.9252572059631348, pvalue=0.11057735979557037)"
            ]
          },
          "metadata": {},
          "execution_count": 11
        }
      ]
    },
    {
      "cell_type": "code",
      "source": [
        "stats.shapiro(JJ_3)"
      ],
      "metadata": {
        "colab": {
          "base_uri": "https://localhost:8080/"
        },
        "id": "_FwkCD9YjWwp",
        "outputId": "f0009832-50f2-4932-96e7-0dea3a71c080"
      },
      "execution_count": 12,
      "outputs": [
        {
          "output_type": "execute_result",
          "data": {
            "text/plain": [
              "ShapiroResult(statistic=0.9523220062255859, pvalue=0.3765488862991333)"
            ]
          },
          "metadata": {},
          "execution_count": 12
        }
      ]
    },
    {
      "cell_type": "code",
      "source": [
        "stats.shapiro(JJ_4)"
      ],
      "metadata": {
        "colab": {
          "base_uri": "https://localhost:8080/"
        },
        "id": "R_IWKBOWjY2K",
        "outputId": "d7580a35-0684-48aa-d8fc-43e3b3693fba"
      },
      "execution_count": 13,
      "outputs": [
        {
          "output_type": "execute_result",
          "data": {
            "text/plain": [
              "ShapiroResult(statistic=0.9590807557106018, pvalue=0.49780386686325073)"
            ]
          },
          "metadata": {},
          "execution_count": 13
        }
      ]
    },
    {
      "cell_type": "markdown",
      "source": [
        "**Вывод по тесту Шапиро:** pvalue не может быть боле 1, данные нормальные."
      ],
      "metadata": {
        "id": "Q7f5Ebigjeu7"
      }
    },
    {
      "cell_type": "code",
      "source": [
        "stats.bartlett(JJ_1, JJ_2, JJ_3, JJ_4)"
      ],
      "metadata": {
        "colab": {
          "base_uri": "https://localhost:8080/"
        },
        "id": "9n_skRVnjkkz",
        "outputId": "c9fdbbf7-1dc5-4299-aec0-ba5f021fd103"
      },
      "execution_count": 14,
      "outputs": [
        {
          "output_type": "execute_result",
          "data": {
            "text/plain": [
              "BartlettResult(statistic=109.62893110687119, pvalue=1.3188378332498392e-23)"
            ]
          },
          "metadata": {},
          "execution_count": 14
        }
      ]
    },
    {
      "cell_type": "markdown",
      "source": [
        "**Вывод:**не соблюдалась однородность дисперсий слабо влияет на результат. Фишера"
      ],
      "metadata": {
        "id": "HxX7H_6VkHQo"
      }
    },
    {
      "cell_type": "code",
      "source": [
        "stats.f_oneway(JJ_1, JJ_2, JJ_3, JJ_4)"
      ],
      "metadata": {
        "colab": {
          "base_uri": "https://localhost:8080/"
        },
        "id": "utOleYPkkxc_",
        "outputId": "9269b961-ab24-4e11-9a88-0fd9f1db3cdd"
      },
      "execution_count": 15,
      "outputs": [
        {
          "output_type": "execute_result",
          "data": {
            "text/plain": [
              "F_onewayResult(statistic=162.03157448390618, pvalue=6.81307443530621e-34)"
            ]
          },
          "metadata": {},
          "execution_count": 15
        }
      ]
    },
    {
      "cell_type": "code",
      "source": [
        "stats.kruskal(JJ_1, JJ_2, JJ_3, JJ_4)"
      ],
      "metadata": {
        "colab": {
          "base_uri": "https://localhost:8080/"
        },
        "id": "0PrhOwyyEejI",
        "outputId": "f40a568c-1095-4671-eb81-d89d5640323d"
      },
      "execution_count": 16,
      "outputs": [
        {
          "output_type": "execute_result",
          "data": {
            "text/plain": [
              "KruskalResult(statistic=77.04853477998796, pvalue=1.318184789753617e-16)"
            ]
          },
          "metadata": {},
          "execution_count": 16
        }
      ]
    },
    {
      "cell_type": "markdown",
      "source": [
        "**Вывод:** Есть различия прибыли между 4-мя кварталами."
      ],
      "metadata": {
        "id": "RqUU_EnLE1Q6"
      }
    },
    {
      "cell_type": "markdown",
      "source": [
        "#Дополнительное задание к данной задачи.\n",
        "Провести post hoc tests к задаче 2. Между какими группами не обнаружено стат значимых различий?"
      ],
      "metadata": {
        "id": "hEM61j_AFLAo"
      }
    },
    {
      "cell_type": "code",
      "source": [
        "from statsmodels.stats.multicomp import pairwise_tukeyhsd\n",
        "import pandas as pd "
      ],
      "metadata": {
        "id": "bLs37JlZFGNc"
      },
      "execution_count": 17,
      "outputs": []
    },
    {
      "cell_type": "code",
      "source": [
        "df=pd.DataFrame({\"score\":[0.71, 0.63, 0.85, 0.44, 0.61, 0.69, 0.92, 0.55, 0.72, 0.77, 0.92, 0.60, 0.83, 0.80, 1.00, 0.77, 0.92, 1.00, 1.24, 1.00, 1.16,\n",
        "                         1.30, 1.45, 1.25, 1.26, 1.38, 1.86, 1.56, 1.53, 1.59, 1.83, 1.86, 1.53, 2.07, 2.34, 2.25, 2.16, 2.43, 2.70, 2.25, 2.79, 3.42,\n",
        "                         3.69, 3.60, 3.60, 4.32, 4.32, 4.05, 4.86, 5.04, 5.04, 4.41, 5.58, 5.85, 6.57, 5.31, 6.03, 6.39, 6.93, 5.85, 6.93, 7.74,  7.83,\n",
        "                         6.12,  7.74,  8.91,  8.28, 6.84,  9.54, 10.26,  9.54, 8.73, 11.88, 12.06, 12.15, 8.91, 14.04, 12.96, 14.85, 9.99, 16.20, 14.67, 16.02, 11.61],\n",
        "                 \"group\":np.repeat([\"JJ_1\",\"JJ_2\",\"JJ_3\",\"JJ_4\"], repeats =21)})\n",
        "tukey=pairwise_tukeyhsd(df[\"score\"],\n",
        "                        df[\"group\"],\n",
        "                        alpha =0.05)\n",
        "print(tukey)"
      ],
      "metadata": {
        "colab": {
          "base_uri": "https://localhost:8080/"
        },
        "id": "oKmfAQyFFq7d",
        "outputId": "2b81c0aa-122c-4dfd-bfbd-3bdcddd040a1"
      },
      "execution_count": 19,
      "outputs": [
        {
          "output_type": "stream",
          "name": "stdout",
          "text": [
            "Multiple Comparison of Means - Tukey HSD, FWER=0.05 \n",
            "====================================================\n",
            "group1 group2 meandiff p-adj   lower   upper  reject\n",
            "----------------------------------------------------\n",
            "  JJ_1   JJ_2   1.1276 0.1281 -0.2088   2.464  False\n",
            "  JJ_1   JJ_3     4.61  0.001  3.2736  5.9464   True\n",
            "  JJ_1   JJ_4  10.1986  0.001  8.8622  11.535   True\n",
            "  JJ_2   JJ_3   3.4824  0.001   2.146  4.8188   True\n",
            "  JJ_2   JJ_4    9.071  0.001  7.7346 10.4073   True\n",
            "  JJ_3   JJ_4   5.5886  0.001  4.2522   6.925   True\n",
            "----------------------------------------------------\n"
          ]
        }
      ]
    },
    {
      "cell_type": "markdown",
      "source": [
        "#Задача 3.\n",
        "Даны веса пациентов до и после диеты. Веса распределены нормально\n",
        "До 92.8 , 95.6, 92.1, 100.6, 96.2, 92.1, 96.7, 97.6, 97.0, 93.9\n",
        "После 87.1, 84.1, 81.3, 77.0, 86.0, 82.9, 83.0, 85.5, 85.2, 84.6\n",
        "Проверить гипотезу о том, что средний вес пациентов после диеты стат меньше веса до диеты.\n",
        "1) Используйте  alternative='greater‘\n",
        "2) alternative=‘less‘\n",
        "3) 'two-sided'.\n",
        "Объясните полученные результаты p-value для каждого случая"
      ],
      "metadata": {
        "id": "QWf7e6iXIgQa"
      }
    },
    {
      "cell_type": "code",
      "source": [
        "a = np.array([92.8 , 95.6, 92.1, 100.6, 96.2, 92.1, 96.7, 97.6, 97.0, 93.9])\n",
        "b = np.array([87.1, 84.1, 81.3, 77.0, 86.0, 82.9, 83.0, 85.5, 85.2, 84.6])"
      ],
      "metadata": {
        "id": "JLFz4nHeF2jC"
      },
      "execution_count": 22,
      "outputs": []
    },
    {
      "cell_type": "code",
      "source": [
        "from scipy.stats.stats import ttest_rel\n",
        "stats.ttest_rel(a,b,alternative= \"two-sided\")"
      ],
      "metadata": {
        "colab": {
          "base_uri": "https://localhost:8080/"
        },
        "id": "NK-raTecKJEk",
        "outputId": "3b648ee2-c6c4-4c3e-fb46-e1a59320bf65"
      },
      "execution_count": 23,
      "outputs": [
        {
          "output_type": "execute_result",
          "data": {
            "text/plain": [
              "Ttest_relResult(statistic=7.972831441034037, pvalue=2.2744427446816035e-05)"
            ]
          },
          "metadata": {},
          "execution_count": 23
        }
      ]
    },
    {
      "cell_type": "code",
      "source": [
        "stats.ttest_rel(a,b,alternative= \"less\")#альтернативная гипотиза не подтвердилась a<b, pvalue 0.9"
      ],
      "metadata": {
        "colab": {
          "base_uri": "https://localhost:8080/"
        },
        "id": "xabg5--nK6bZ",
        "outputId": "d8f0841d-91ce-4bd7-80b9-9c8333fc1438"
      },
      "execution_count": 24,
      "outputs": [
        {
          "output_type": "execute_result",
          "data": {
            "text/plain": [
              "Ttest_relResult(statistic=7.972831441034037, pvalue=0.9999886277862766)"
            ]
          },
          "metadata": {},
          "execution_count": 24
        }
      ]
    },
    {
      "cell_type": "code",
      "source": [
        "stats.ttest_rel(a,b,alternative= \"greater\")#альтернативная гипотеза подтвердилась, a>b, pvalue меньше 05"
      ],
      "metadata": {
        "colab": {
          "base_uri": "https://localhost:8080/"
        },
        "id": "fOjarMRsLNMG",
        "outputId": "ec92b2c6-6810-4645-ec1a-c6f0e84d33ba"
      },
      "execution_count": 25,
      "outputs": [
        {
          "output_type": "execute_result",
          "data": {
            "text/plain": [
              "Ttest_relResult(statistic=7.972831441034037, pvalue=1.1372213723408018e-05)"
            ]
          },
          "metadata": {},
          "execution_count": 25
        }
      ]
    }
  ]
}